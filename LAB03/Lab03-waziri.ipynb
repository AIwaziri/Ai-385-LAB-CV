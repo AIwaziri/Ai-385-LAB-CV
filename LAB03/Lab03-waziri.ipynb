{
 "cells": [
  {
   "cell_type": "code",
   "id": "initial_id",
   "metadata": {
    "collapsed": true,
    "ExecuteTime": {
     "end_time": "2025-02-10T21:15:31.620207Z",
     "start_time": "2025-02-10T21:13:40.708532Z"
    }
   },
   "source": [
    "import cv2\n",
    "import numpy as np\n",
    "\n",
    "# Load an image\n",
    "img = cv2.imread('image.jpg')\n",
    "# Get pixel value at (100,100)\n",
    "pixel = img[100, 100]\n",
    "print(\"Original Pixel Value at (100,100):\", pixel)\n",
    "\n",
    "# Modify pixel value at (100,100)\n",
    "img[100, 100] = [255, 0, 0]  # Change to blue\n",
    "cv2.imshow('Modified Image', img)\n",
    "cv2.waitKey(0)\n",
    "cv2.destroyAllWindows()\n"
   ],
   "outputs": [
    {
     "name": "stdout",
     "output_type": "stream",
     "text": [
      "Original Pixel Value at (100,100): [ 88 106 143]\n"
     ]
    },
    {
     "name": "stderr",
     "output_type": "stream",
     "text": [
      "2025-02-11 00:13:43.815 Python[28444:7559696] +[IMKClient subclass]: chose IMKClient_Modern\n",
      "2025-02-11 00:13:43.815 Python[28444:7559696] +[IMKInputSession subclass]: chose IMKInputSession_Modern\n"
     ]
    }
   ],
   "execution_count": 1
  },
  {
   "metadata": {
    "ExecuteTime": {
     "start_time": "2025-02-10T21:17:29.769726Z"
    }
   },
   "cell_type": "code",
   "source": [
    "import cv2\n",
    "# Load an image\n",
    "img = cv2.imread('image.jpg')\n",
    "# Rotate the image by 45 degrees\n",
    "(h, w) = img.shape[:2]\n",
    "center = (w // 2, h // 2)\n",
    "M = cv2.getRotationMatrix2D(center, 45, 1.0)\n",
    "rotated_img = cv2.warpAffine(img, M, (w, h))\n",
    "cv2.imshow('Rotated Image', rotated_img)\n",
    "cv2.waitKey(0)\n",
    "# Cropping an image\n",
    "cropped_img = img[50:300, 50:300]  # Crop a region from (50,50) to (300,300)\n",
    "cv2.imshow('Cropped Image', cropped_img)\n",
    "cv2.waitKey(0)\n",
    "# Resizing an image\n",
    "resized_img = cv2.resize(img, (300, 300))\n",
    "cv2.imshow('Resized Image', resized_img)\n",
    "cv2.waitKey(0)\n",
    "# Flipping an image\n",
    "flipped_img = cv2.flip(img, 1)  # Flip horizontally\n",
    "cv2.imshow('Flipped Image', flipped_img)\n",
    "cv2.waitKey(0)\n",
    "cv2.destroyAllWindows()\n"
   ],
   "id": "801e0a78b694be85",
   "outputs": [
    {
     "name": "stderr",
     "output_type": "stream",
     "text": [
      "2025-02-11 00:17:30.397 Python[28637:7564125] +[IMKClient subclass]: chose IMKClient_Modern\n",
      "2025-02-11 00:17:30.397 Python[28637:7564125] +[IMKInputSession subclass]: chose IMKInputSession_Modern\n"
     ]
    }
   ],
   "execution_count": null
  },
  {
   "metadata": {
    "ExecuteTime": {
     "end_time": "2025-02-10T21:23:21.686688Z",
     "start_time": "2025-02-10T21:22:34.795456Z"
    }
   },
   "cell_type": "code",
   "source": [
    "import cv2\n",
    "import numpy as np\n",
    "\n",
    "# Load an image\n",
    "img = cv2.imread('image.jpg')\n",
    "# Convert into different color space\n",
    "hsv_img = cv2.cvtColor(img, cv2.COLOR_BGR2HSV)\n",
    "lab_img = cv2.cvtColor(img, cv2.COLOR_BGR2LAB)\n",
    "cv2.imshow('HSV Image', hsv_img)\n",
    "cv2.imshow('LAB Image', lab_img)\n",
    "cv2.waitKey(0)\n"
   ],
   "id": "d4a732c6275b2754",
   "outputs": [
    {
     "name": "stderr",
     "output_type": "stream",
     "text": [
      "2025-02-11 00:22:35.575 Python[28830:7574154] +[IMKClient subclass]: chose IMKClient_Modern\n",
      "2025-02-11 00:22:35.575 Python[28830:7574154] +[IMKInputSession subclass]: chose IMKInputSession_Modern\n"
     ]
    },
    {
     "data": {
      "text/plain": [
       "113"
      ]
     },
     "execution_count": 1,
     "metadata": {},
     "output_type": "execute_result"
    }
   ],
   "execution_count": 1
  },
  {
   "metadata": {},
   "cell_type": "code",
   "source": [
    "import cv2\n",
    "# Display indivisual Color channels# Split color channels\n",
    "b, g, r = cv2.split(img)\n",
    "cv2.imshow('Red Channel', r)\n",
    "cv2.imshow('Green Channel', g)\n",
    "cv2.imshow('Blue Channel', b)\n",
    "cv2.waitKey(0)\n"
   ],
   "id": "e450b46b84a184d8",
   "outputs": [],
   "execution_count": null
  },
  {
   "metadata": {},
   "cell_type": "markdown",
   "source": "# Task",
   "id": "e784da2b2fa295d7"
  },
  {
   "metadata": {
    "ExecuteTime": {
     "end_time": "2025-02-10T21:32:29.642290Z",
     "start_time": "2025-02-10T21:32:24.494799Z"
    }
   },
   "cell_type": "code",
   "source": [
    "import cv2\n",
    "import numpy as np\n",
    "\n",
    "def process_video(source=0, output_file='output.amp4', duration=5):\n",
    "    cap = cv2.VideoCapture(source)\n",
    "\n",
    "    if not cap.isOpened():\n",
    "        print(\"Error: Could not open video.\")\n",
    "        return\n",
    "\n",
    "    # Get frame width and height\n",
    "    frame_width = int(cap.get(5))\n",
    "    frame_height = int(cap.get(5))\n",
    "\n",
    "    # Define the codec and create VideoWriter object\n",
    "    fourcc = cv2.VideoWriter_fourcc(*'XVID')\n",
    "    out = cv2.VideoWriter(output_file, fourcc, 20.0, (frame_width * 4, frame_height))\n",
    "\n",
    "    frame_count = 0\n",
    "    max_frames = 20 * duration  # Assuming 20 FPS\n",
    "\n",
    "    while frame_count < max_frames:\n",
    "        ret, frame = cap.read()\n",
    "        if not ret:\n",
    "            break\n",
    "\n",
    "        # Convert frame to different color spaces\n",
    "        gray_frame = cv2.cvtColor(frame, cv2.COLOR_BGR2GRAY)\n",
    "        hsv_frame = cv2.cvtColor(frame, cv2.COLOR_BGR2HSV)\n",
    "        lab_frame = cv2.cvtColor(frame, cv2.COLOR_BGR2LAB)\n",
    "\n",
    "        # Resize all frames to match for stacking\n",
    "        frame_resized = cv2.resize(frame, (400, 300))\n",
    "        gray_resized = cv2.resize(gray_frame, (400, 300))\n",
    "        hsv_resized = cv2.resize(hsv_frame, (400, 300))\n",
    "        lab_resized = cv2.resize(lab_frame, (400, 300))\n",
    "\n",
    "        # Convert grayscale to 3-channel for stacking\n",
    "        gray_resized = cv2.cvtColor(gray_resized, cv2.COLOR_GRAY2BGR)\n",
    "\n",
    "        # Stack images horizontally\n",
    "        combined = np.hstack((frame_resized, gray_resized, hsv_resized, lab_resized))\n",
    "\n",
    "        # Write frame to output video\n",
    "        out.write(combined)\n",
    "\n",
    "        # Show video\n",
    "        cv2.imshow('Original | Grayscale | HSV | LAB', combined)\n",
    "\n",
    "        if cv2.waitKey(1) & 0xFF == ord('q'):\n",
    "            break\n",
    "\n",
    "        frame_count += 1\n",
    "\n",
    "    cap.release()\n",
    "    out.release()\n",
    "    cv2.destroyAllWindows()\n",
    "\n",
    "    # Display saved video\n",
    "    from IPython.display import Video, display\n",
    "    display(Video(output_file, embed=True))\n",
    "\n",
    "# Call function with video file path or webcam (0 for default webcam)\n",
    "process_video(0)\n"
   ],
   "id": "19ea6cb3159fac11",
   "outputs": [
    {
     "data": {
      "text/plain": [
       "<IPython.core.display.Video object>"
      ],
      "text/html": [
       "<video controls  >\n",
       " <source src=\"data:None;base64,output.amp4\" type=\"None\">\n",
       " Your browser does not support the video tag.\n",
       " </video>"
      ]
     },
     "metadata": {},
     "output_type": "display_data"
    }
   ],
   "execution_count": 6
  },
  {
   "metadata": {
    "ExecuteTime": {
     "end_time": "2025-02-10T21:32:14.093614Z",
     "start_time": "2025-02-10T21:32:14.091242Z"
    }
   },
   "cell_type": "code",
   "source": "",
   "id": "17f1e26a49085c7a",
   "outputs": [],
   "execution_count": null
  },
  {
   "metadata": {},
   "cell_type": "code",
   "outputs": [],
   "execution_count": null,
   "source": "",
   "id": "bd205597e68e846b"
  }
 ],
 "metadata": {
  "kernelspec": {
   "display_name": "Python 3",
   "language": "python",
   "name": "python3"
  },
  "language_info": {
   "codemirror_mode": {
    "name": "ipython",
    "version": 2
   },
   "file_extension": ".py",
   "mimetype": "text/x-python",
   "name": "python",
   "nbconvert_exporter": "python",
   "pygments_lexer": "ipython2",
   "version": "2.7.6"
  }
 },
 "nbformat": 4,
 "nbformat_minor": 5
}
