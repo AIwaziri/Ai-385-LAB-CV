{
 "cells": [
  {
   "metadata": {
    "ExecuteTime": {
     "end_time": "2025-05-13T13:19:21.957421Z",
     "start_time": "2025-05-13T13:19:21.798204Z"
    }
   },
   "cell_type": "code",
   "source": [
    "import cv2\n",
    "import numpy as np"
   ],
   "id": "f4afa4f9d7f20579",
   "outputs": [],
   "execution_count": 1
  },
  {
   "metadata": {
    "ExecuteTime": {
     "end_time": "2025-05-13T13:19:24.055783Z",
     "start_time": "2025-05-13T13:19:24.042787Z"
    }
   },
   "cell_type": "code",
   "source": [
    "video = cv2.VideoCapture('Test_video.avi')\n",
    "ret1, frame1 = video.read()\n",
    "ret2, frame2 = video.read()\n",
    "ret2, frame = video.read()"
   ],
   "id": "ca0eba9dca683c6e",
   "outputs": [],
   "execution_count": 2
  },
  {
   "metadata": {},
   "cell_type": "code",
   "outputs": [],
   "execution_count": 2,
   "source": [
    "if ret1 and ret2:\n",
    "    cv2.imshow('Frame 1', frame1)\n",
    "    cv2.imshow('Frame 2', frame2)\n",
    "    cv2.waitKey(0)"
   ],
   "id": "5bea422213669f2d"
  },
  {
   "metadata": {
    "ExecuteTime": {
     "end_time": "2025-05-13T12:52:18.038478Z",
     "start_time": "2025-05-13T12:52:18.031270Z"
    }
   },
   "cell_type": "code",
   "source": "frame1 = ((2 * frame1.astype(np.float32) + 70) / 3).astype(np.uint8)",
   "id": "4647edd8f24e890b",
   "outputs": [],
   "execution_count": 3
  },
  {
   "metadata": {},
   "cell_type": "code",
   "outputs": [
    {
     "data": {
      "text/plain": [
       "32"
      ]
     },
     "execution_count": 5,
     "metadata": {},
     "output_type": "execute_result"
    }
   ],
   "execution_count": 5,
   "source": [
    "for i in range(frame.shape[0]):\n",
    "    for j in range(frame.shape[1]):\n",
    "        for k in range(frame.shape[2]):\n",
    "            frame[i][j][k] = (2*frame[i][j][k]+70)/3\n",
    "cv2.imshow('frame', frame)\n",
    "cv2.waitKey(0)"
   ],
   "id": "ad06a8b82e3b573a"
  },
  {
   "metadata": {
    "ExecuteTime": {
     "end_time": "2025-05-13T12:53:14.762489Z",
     "start_time": "2025-05-13T12:53:10.410577Z"
    }
   },
   "cell_type": "code",
   "source": [
    "edges = cv2.Canny(frame, 100, 200)\n",
    "cv2.imshow('edges', edges)\n",
    "cv2.waitKey(0)"
   ],
   "id": "b57cc670bfdeabaf",
   "outputs": [
    {
     "data": {
      "text/plain": [
       "32"
      ]
     },
     "execution_count": 6,
     "metadata": {},
     "output_type": "execute_result"
    }
   ],
   "execution_count": 6
  },
  {
   "metadata": {
    "ExecuteTime": {
     "end_time": "2025-05-13T12:55:13.642460Z",
     "start_time": "2025-05-13T12:54:54.218057Z"
    }
   },
   "cell_type": "code",
   "source": [
    "frame1 = ((2 * frame1.astype(np.float32) + 70) / 3).astype(np.uint8)\n",
    "edges = cv2.Canny(frame1, 50, 150, apertureSize=3, L2gradient=True)\n",
    "kernel = np.ones((3,3), np.uint8)\n",
    "edges = cv2.dilate(edges, kernel, iterations=1)\n",
    "cv2.imshow('Edges', edges)\n",
    "cv2.waitKey(0)\n",
    "cv2.destroyAllWindows()"
   ],
   "id": "dca409fe7a5ec9d",
   "outputs": [],
   "execution_count": 4
  },
  {
   "metadata": {},
   "cell_type": "markdown",
   "source": "#### Q2",
   "id": "eba25fdd4e3fb7cd"
  },
  {
   "metadata": {
    "ExecuteTime": {
     "start_time": "2025-05-13T13:08:55.809165Z"
    }
   },
   "cell_type": "code",
   "source": [
    "# Question 2\n",
    "coins = cv2.imread('coins.jpg')\n",
    "gray = cv2.cvtColor(coins, cv2.COLOR_BGR2GRAY)\n",
    "blurred = cv2.GaussianBlur(gray, (5, 5), 0)\n",
    "circles = cv2.HoughCircles(blurred, cv2.HOUGH_GRADIENT, 1, 20, param1=50, param2=30, minRadius=10, maxRadius=60)\n",
    "output = coins.copy()\n",
    "if circles is not None:\n",
    "    circles = np.uint16(np.around(circles))\n",
    "    for i in circles[0, :]:\n",
    "        cv2.circle(output, (i[0], i[1]), i[2], (0, 255, 0), 2)\n",
    "        cv2.circle(output, (i[0], i[1]), 2, (0, 0, 255), 3)\n",
    "cv2.imshow('Coins Detected', output)\n",
    "cv2.waitKey(0)\n",
    "cv2.destroyAllWindows()"
   ],
   "id": "81a071dad80a3412",
   "outputs": [],
   "execution_count": null
  },
  {
   "metadata": {
    "ExecuteTime": {
     "end_time": "2025-05-13T12:17:25.930541Z",
     "start_time": "2025-05-13T12:17:25.899097Z"
    }
   },
   "cell_type": "code",
   "source": [
    "coins = cv2.imread('coins.jpg')\n",
    "gray = cv2.cvtColor(coins, cv2.COLOR_BGR2GRAY)"
   ],
   "id": "4bd0f6c61d30e82d",
   "outputs": [],
   "execution_count": 2
  },
  {
   "metadata": {},
   "cell_type": "markdown",
   "source": "### Q3",
   "id": "8465c43c4da680a1"
  },
  {
   "metadata": {},
   "cell_type": "code",
   "outputs": [],
   "execution_count": null,
   "source": [
    "# Question 3\n",
    "sift = cv2.SIFT_create()\n",
    "kp1, des1 = sift.detectAndCompute(frame1, None)\n",
    "kp2, des2 = sift.detectAndCompute(frame2, None)\n",
    "bf = cv2.BFMatcher()\n",
    "matches = bf.match(des1, des2)\n",
    "matches = sorted(matches, key=lambda x: x.distance)\n",
    "img_matches = cv2.drawMatches(frame1, kp1, frame2, kp2, matches[:10], None, flags=2)\n",
    "cv2.imshow('SIFT Matches', img_matches)\n",
    "diff = cv2.absdiff(frame1, frame2)\n",
    "cv2.imshow('Difference', diff)\n",
    "cv2.waitKey(0)\n",
    "cv2.destroyAllWindows()"
   ],
   "id": "70392ad848974d5d"
  },
  {
   "metadata": {},
   "cell_type": "code",
   "outputs": [],
   "execution_count": null,
   "source": "",
   "id": "25376b6ebe637e52"
  },
  {
   "metadata": {},
   "cell_type": "code",
   "outputs": [],
   "execution_count": null,
   "source": "",
   "id": "db9803e0eb979b03"
  },
  {
   "metadata": {},
   "cell_type": "markdown",
   "source": "### Q4",
   "id": "e037f6529162a6df"
  },
  {
   "metadata": {
    "ExecuteTime": {
     "end_time": "2025-05-13T13:20:00.629150Z",
     "start_time": "2025-05-13T13:19:28.384156Z"
    }
   },
   "cell_type": "code",
   "source": [
    "left = cv2.imread('left.jpg', 0)\n",
    "right = cv2.imread('right.jpg', 0)\n",
    "stereo = cv2.StereoBM_create(numDisparities=16*4, blockSize=15)\n",
    "disparity = stereo.compute(left, right)\n",
    "cv2.imshow('Disparity', (disparity/np.max(disparity)*255).astype(np.uint8))\n",
    "cv2.waitKey(0)\n",
    "cv2.destroyAllWindows()\n"
   ],
   "id": "d6837414299ca33d",
   "outputs": [],
   "execution_count": null
  },
  {
   "metadata": {},
   "cell_type": "code",
   "outputs": [],
   "execution_count": null,
   "source": "",
   "id": "eb3993b49df8e9f9"
  },
  {
   "metadata": {},
   "cell_type": "code",
   "outputs": [],
   "execution_count": null,
   "source": "",
   "id": "ea4f6dade0d8a695"
  }
 ],
 "metadata": {
  "kernelspec": {
   "display_name": "Python 3",
   "language": "python",
   "name": "python3"
  },
  "language_info": {
   "codemirror_mode": {
    "name": "ipython",
    "version": 2
   },
   "file_extension": ".py",
   "mimetype": "text/x-python",
   "name": "python",
   "nbconvert_exporter": "python",
   "pygments_lexer": "ipython2",
   "version": "2.7.6"
  }
 },
 "nbformat": 4,
 "nbformat_minor": 5
}
