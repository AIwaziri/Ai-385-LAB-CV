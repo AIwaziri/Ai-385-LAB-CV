{
 "cells": [
  {
   "cell_type": "markdown",
   "metadata": {},
   "source": [
    "# Step 1 & 2"
   ]
  },
  {
   "cell_type": "code",
   "metadata": {
    "ExecuteTime": {
     "end_time": "2025-02-24T13:06:53.872391Z",
     "start_time": "2025-02-24T13:06:37.443153Z"
    }
   },
   "source": [
    "import cv2\n",
    "import numpy as np\n",
    "\n",
    "# Load a checkerboard image\n",
    "img = cv2.imread('checkerboard.jpg')\n",
    "gray = cv2.cvtColor(img, cv2.COLOR_BGR2GRAY)\n",
    "\n",
    "# Define chessboard size (columns, rows)\n",
    "checkerboard_size = (6, 9)\n",
    "\n",
    "# Find chessboard corners\n",
    "ret, corners = cv2.findChessboardCorners(gray, checkerboard_size, None)\n",
    "\n",
    "# Draw detected corners\n",
    "if ret:\n",
    "    img = cv2.drawChessboardCorners(img, checkerboard_size, corners, ret)\n",
    "    cv2.imshow('Detected Corners', img)\n",
    "    cv2.waitKey(0)\n",
    "    cv2.destroyAllWindows()"
   ],
   "outputs": [
    {
     "name": "stderr",
     "output_type": "stream",
     "text": [
      "2025-02-24 16:06:37.914 Python[12754:502566] +[IMKClient subclass]: chose IMKClient_Modern\n",
      "2025-02-24 16:06:37.914 Python[12754:502566] +[IMKInputSession subclass]: chose IMKInputSession_Modern\n"
     ]
    }
   ],
   "execution_count": 2
  },
  {
   "cell_type": "markdown",
   "metadata": {},
   "source": [
    "# Step 3 & 4"
   ]
  },
  {
   "cell_type": "code",
   "metadata": {
    "ExecuteTime": {
     "end_time": "2025-02-24T13:12:02.510736Z",
     "start_time": "2025-02-24T13:12:01.991958Z"
    }
   },
   "source": [
    "import cv2\n",
    "import numpy as np\n",
    "import glob\n",
    "import os\n",
    "\n",
    "# Define the chessboard size (columns, rows)\n",
    "checkerboard_size = (6, 9)\n",
    "\n",
    "# Prepare object points\n",
    "objp = np.zeros((checkerboard_size[0] * checkerboard_size[1], 3), np.float32)\n",
    "objp[:, :2] = np.mgrid[0:checkerboard_size[0], 0:checkerboard_size[1]].T.reshape(-1, 2)\n",
    "\n",
    "# Store object points and image points\n",
    "objpoints = []  # Real world 3D points\n",
    "imgpoints = []  # 2D points in image plane\n",
    "\n",
    "# Define the path to the folder containing calibration images\n",
    "image_folder = r'\\Images'\n",
    "\n",
    "\n",
    "# Get all image file paths in the folder\n",
    "image_files = glob.glob(os.path.join(image_folder, '*.jpg'))  # Change '*.jpg' to '*.png' if needed\n",
    "# Process each image\n",
    "for fname in image_files:\n",
    "    img = cv2.imread(fname)\n",
    "    \n",
    "    if img is None:\n",
    "        print(f\"Warning: Could not read {fname}\")\n",
    "        continue\n",
    "\n",
    "    gray = cv2.cvtColor(img, cv2.COLOR_BGR2GRAY)\n",
    "    ret, corners = cv2.findChessboardCorners(gray, checkerboard_size, None)\n",
    "\n",
    "    if ret:\n",
    "        objpoints.append(objp)\n",
    "        imgpoints.append(corners)\n",
    "\n",
    "\n",
    "# Perform camera calibration\n",
    "ret, mtx, dist, rvecs, tvecs = cv2.calibrateCamera(objpoints, imgpoints, gray.shape[::-1], None, None)\n",
    "# Print the camera matrix and distortion coefficients\n",
    "print(\"Camera Matrix:\\n\", mtx)\n",
    "print(\"Distortion Coefficients:\\n\", dist)\n"
   ],
   "outputs": [
    {
     "ename": "NameError",
     "evalue": "name 'gray' is not defined",
     "output_type": "error",
     "traceback": [
      "\u001B[0;31m---------------------------------------------------------------------------\u001B[0m",
      "\u001B[0;31mNameError\u001B[0m                                 Traceback (most recent call last)",
      "Cell \u001B[0;32mIn[1], line 40\u001B[0m\n\u001B[1;32m     36\u001B[0m         imgpoints\u001B[38;5;241m.\u001B[39mappend(corners)\n\u001B[1;32m     39\u001B[0m \u001B[38;5;66;03m# Perform camera calibration\u001B[39;00m\n\u001B[0;32m---> 40\u001B[0m ret, mtx, dist, rvecs, tvecs \u001B[38;5;241m=\u001B[39m cv2\u001B[38;5;241m.\u001B[39mcalibrateCamera(objpoints, imgpoints, \u001B[43mgray\u001B[49m\u001B[38;5;241m.\u001B[39mshape[::\u001B[38;5;241m-\u001B[39m\u001B[38;5;241m1\u001B[39m], \u001B[38;5;28;01mNone\u001B[39;00m, \u001B[38;5;28;01mNone\u001B[39;00m)\n\u001B[1;32m     41\u001B[0m \u001B[38;5;66;03m# Print the camera matrix and distortion coefficients\u001B[39;00m\n\u001B[1;32m     42\u001B[0m \u001B[38;5;28mprint\u001B[39m(\u001B[38;5;124m\"\u001B[39m\u001B[38;5;124mCamera Matrix:\u001B[39m\u001B[38;5;130;01m\\n\u001B[39;00m\u001B[38;5;124m\"\u001B[39m, mtx)\n",
      "\u001B[0;31mNameError\u001B[0m: name 'gray' is not defined"
     ]
    }
   ],
   "execution_count": 1
  },
  {
   "cell_type": "markdown",
   "metadata": {},
   "source": [
    "# Step 5"
   ]
  },
  {
   "cell_type": "code",
   "metadata": {
    "ExecuteTime": {
     "end_time": "2025-02-24T13:12:42.181113Z",
     "start_time": "2025-02-24T13:12:42.119576Z"
    }
   },
   "source": [
    "import cv2\n",
    "import numpy as np\n",
    "\n",
    "# Load the camera calibration parameters\n",
    "# Ensure 'mtx' and 'dist' are correctly obtained from the calibration step\n",
    "if 'mtx' not in globals() or 'dist' not in globals():\n",
    "    print(\"Error: Camera calibration parameters (mtx, dist) not found. Run calibration first.\")\n",
    "    exit()\n",
    "\n",
    "# Load an image\n",
    "img = cv2.imread(r'ab 5\\Images\\0.jpg')\n",
    "\n",
    "# Check if the image is loaded properly\n",
    "if img is None:\n",
    "    print(\"Error: Could not read the image file. Please check the path.\")\n",
    "    exit()\n",
    "\n",
    "# Get image size\n",
    "h, w = img.shape[:2]\n",
    "\n",
    "# **Step 1: Apply Artificial Distortion**\n",
    "def apply_distortion(img, mtx, dist):\n",
    "    distorted_img = cv2.undistort(img, mtx, dist, None, mtx)\n",
    "    return distorted_img\n",
    "\n",
    "distorted_img = apply_distortion(img, mtx, dist)\n",
    "\n",
    "# **Step 2: Remove the Distortion**\n",
    "# Compute the optimal new camera matrix\n",
    "new_camera_mtx, roi = cv2.getOptimalNewCameraMatrix(mtx, dist, (w, h), 1, (w, h))\n",
    "\n",
    "# Undistort the image\n",
    "undistorted_img = cv2.undistort(distorted_img, mtx, dist, None, new_camera_mtx)\n",
    "\n",
    "# Crop the image based on the region of interest (ROI)\n",
    "x, y, w, h = roi\n",
    "undistorted_img = undistorted_img[y:y+h, x:x+w]\n",
    "\n",
    "# **Display results**\n",
    "cv2.imshow('Original Image', img)\n",
    "cv2.imshow('Distorted Image', distorted_img)\n",
    "cv2.imshow('Undistorted Image', undistorted_img)\n",
    "cv2.waitKey(0)\n",
    "cv2.destroyAllWindows()\n"
   ],
   "outputs": [
    {
     "name": "stdout",
     "output_type": "stream",
     "text": [
      "Error: Camera calibration parameters (mtx, dist) not found. Run calibration first.\n",
      "Error: Could not read the image file. Please check the path.\n"
     ]
    },
    {
     "name": "stderr",
     "output_type": "stream",
     "text": [
      "[ WARN:0@39.738] global loadsave.cpp:268 findDecoder imread_('ab 5\\Images\\0.jpg'): can't open/read file: check file path/integrity\n"
     ]
    },
    {
     "ename": "AttributeError",
     "evalue": "'NoneType' object has no attribute 'shape'",
     "output_type": "error",
     "traceback": [
      "\u001B[0;31m---------------------------------------------------------------------------\u001B[0m",
      "\u001B[0;31mAttributeError\u001B[0m                            Traceback (most recent call last)",
      "Cell \u001B[0;32mIn[2], line 19\u001B[0m\n\u001B[1;32m     16\u001B[0m     exit()\n\u001B[1;32m     18\u001B[0m \u001B[38;5;66;03m# Get image size\u001B[39;00m\n\u001B[0;32m---> 19\u001B[0m h, w \u001B[38;5;241m=\u001B[39m \u001B[43mimg\u001B[49m\u001B[38;5;241;43m.\u001B[39;49m\u001B[43mshape\u001B[49m[:\u001B[38;5;241m2\u001B[39m]\n\u001B[1;32m     21\u001B[0m \u001B[38;5;66;03m# **Step 1: Apply Artificial Distortion**\u001B[39;00m\n\u001B[1;32m     22\u001B[0m \u001B[38;5;28;01mdef\u001B[39;00m \u001B[38;5;21mapply_distortion\u001B[39m(img, mtx, dist):\n",
      "\u001B[0;31mAttributeError\u001B[0m: 'NoneType' object has no attribute 'shape'"
     ]
    }
   ],
   "execution_count": 2
  },
  {
   "cell_type": "markdown",
   "metadata": {},
   "source": [
    "# Bonus"
   ]
  },
  {
   "cell_type": "code",
   "execution_count": null,
   "metadata": {},
   "outputs": [],
   "source": []
  },
  {
   "cell_type": "code",
   "metadata": {
    "ExecuteTime": {
     "end_time": "2025-02-24T13:13:01.739315Z",
     "start_time": "2025-02-24T13:13:01.304305Z"
    }
   },
   "source": [
    "import cv2\n",
    "import numpy as np\n",
    "\n",
    "# Ensure calibration parameters exist\n",
    "if 'mtx' not in globals() or 'dist' not in globals():\n",
    "    print(\"Error: Camera calibration parameters not found. Run calibration first.\")\n",
    "    exit()\n",
    "\n",
    "# Load image\n",
    "img = cv2.imread(r'\\Images\\0.jpg')\n",
    "if img is None:\n",
    "    print(\"Error: Could not read the image file.\")\n",
    "    exit()\n",
    "\n",
    "h, w = img.shape[:2]\n",
    "\n",
    "# Print camera matrix and distortion coefficients\n",
    "print(\"Camera Matrix:\\n\", mtx)\n",
    "print(\"Distortion Coefficients:\\n\", dist)\n",
    "\n",
    "# Compute an optimized camera matrix\n",
    "new_camera_mtx, roi = cv2.getOptimalNewCameraMatrix(mtx, dist, (w, h), alpha=0.6, newImgSize=(w, h))\n",
    "\n",
    "# Apply undistortion\n",
    "undistorted_img = cv2.undistort(img, mtx, dist, None, new_camera_mtx)\n",
    "\n",
    "# Crop the final undistorted image\n",
    "x, y, w, h = roi\n",
    "undistorted_img = undistorted_img[y:y+h, x:x+w]\n",
    "\n",
    "# Display images\n",
    "cv2.imshow('Original Image', img)\n",
    "cv2.imshow('Undistorted Image', undistorted_img)\n",
    "cv2.waitKey(0)\n",
    "cv2.destroyAllWindows()\n"
   ],
   "outputs": [
    {
     "name": "stdout",
     "output_type": "stream",
     "text": [
      "Error: Camera calibration parameters not found. Run calibration first.\n",
      "Error: Could not read the image file.\n"
     ]
    },
    {
     "name": "stderr",
     "output_type": "stream",
     "text": [
      "[ WARN:0@0.024] global loadsave.cpp:268 findDecoder imread_('\\Images\\0.jpg'): can't open/read file: check file path/integrity\n"
     ]
    },
    {
     "ename": "AttributeError",
     "evalue": "'NoneType' object has no attribute 'shape'",
     "output_type": "error",
     "traceback": [
      "\u001B[0;31m---------------------------------------------------------------------------\u001B[0m",
      "\u001B[0;31mAttributeError\u001B[0m                            Traceback (most recent call last)",
      "Cell \u001B[0;32mIn[1], line 15\u001B[0m\n\u001B[1;32m     12\u001B[0m     \u001B[38;5;28mprint\u001B[39m(\u001B[38;5;124m\"\u001B[39m\u001B[38;5;124mError: Could not read the image file.\u001B[39m\u001B[38;5;124m\"\u001B[39m)\n\u001B[1;32m     13\u001B[0m     exit()\n\u001B[0;32m---> 15\u001B[0m h, w \u001B[38;5;241m=\u001B[39m \u001B[43mimg\u001B[49m\u001B[38;5;241;43m.\u001B[39;49m\u001B[43mshape\u001B[49m[:\u001B[38;5;241m2\u001B[39m]\n\u001B[1;32m     17\u001B[0m \u001B[38;5;66;03m# Print camera matrix and distortion coefficients\u001B[39;00m\n\u001B[1;32m     18\u001B[0m \u001B[38;5;28mprint\u001B[39m(\u001B[38;5;124m\"\u001B[39m\u001B[38;5;124mCamera Matrix:\u001B[39m\u001B[38;5;130;01m\\n\u001B[39;00m\u001B[38;5;124m\"\u001B[39m, mtx)\n",
      "\u001B[0;31mAttributeError\u001B[0m: 'NoneType' object has no attribute 'shape'"
     ]
    }
   ],
   "execution_count": 1
  },
  {
   "cell_type": "code",
   "metadata": {
    "ExecuteTime": {
     "end_time": "2025-02-24T13:13:48.416154Z",
     "start_time": "2025-02-24T13:13:26.403860Z"
    }
   },
   "source": [
    "import cv2\n",
    "import numpy as np\n",
    "\n",
    "# Define the chessboard size (columns, rows)\n",
    "checkerboard_size = (6, 9)\n",
    "\n",
    "# 3D coordinates for a cube centered at each chessboard square\n",
    "cube_size = 1  # Adjust the size of the cubes\n",
    "cube_points = np.float32([\n",
    "    [0, 0, 0], [cube_size, 0, 0], [cube_size, cube_size, 0], [0, cube_size, 0], \n",
    "    [0, 0, -cube_size], [cube_size, 0, -cube_size], [cube_size, cube_size, -cube_size], [0, cube_size, -cube_size]\n",
    "])\n",
    "\n",
    "# Function to draw a cube at the given image points\n",
    "def draw_cube(img, corners, imgpts):\n",
    "    imgpts = np.int32(imgpts).reshape(-1, 2)\n",
    "\n",
    "    # Draw base\n",
    "    img = cv2.drawContours(img, [imgpts[:4]], -1, (0, 255, 0), 2)\n",
    "\n",
    "    # Draw pillars\n",
    "    for i, j in zip(range(4), range(4, 8)):\n",
    "        img = cv2.line(img, tuple(imgpts[i]), tuple(imgpts[j]), (255, 0, 0), 2)\n",
    "\n",
    "    # Draw top\n",
    "    img = cv2.drawContours(img, [imgpts[4:]], -1, (0, 0, 255), 2)\n",
    "\n",
    "    return img\n",
    "\n",
    "# Capture video from webcam\n",
    "cap = cv2.VideoCapture(0)\n",
    "\n",
    "while cap.isOpened():\n",
    "    ret, frame = cap.read()\n",
    "    if not ret:\n",
    "        break\n",
    "\n",
    "    gray = cv2.cvtColor(frame, cv2.COLOR_BGR2GRAY)\n",
    "    ret, corners = cv2.findChessboardCorners(gray, checkerboard_size, None)\n",
    "\n",
    "    if ret:\n",
    "        # Refine detected corners\n",
    "        corners = cv2.cornerSubPix(gray, corners, (11, 11), (-1, -1), \n",
    "                                   (cv2.TermCriteria_EPS + cv2.TermCriteria_MAX_ITER, 30, 0.001))\n",
    "\n",
    "        # Solve the pose of the chessboard\n",
    "        ret, rvecs, tvecs = cv2.solvePnP(objp, corners, mtx, dist)\n",
    "\n",
    "        # Loop over multiple squares and place cubes\n",
    "        for i in range(0, len(corners), 5):  # Place a cube every 5th square\n",
    "            square_origin = np.float32([objp[i]])  # Select one chessboard square as origin\n",
    "            cube_3d = cube_points + square_origin  # Move the cube to that square\n",
    "            imgpts, _ = cv2.projectPoints(cube_3d, rvecs, tvecs, mtx, dist)\n",
    "            frame = draw_cube(frame, corners, imgpts)\n",
    "\n",
    "    # Display the AR video\n",
    "    cv2.imshow('Augmented Reality Chessboard', frame)\n",
    "\n",
    "    if cv2.waitKey(1) & 0xFF == ord('q'):\n",
    "        break\n",
    "\n",
    "cap.release()\n",
    "cv2.destroyAllWindows()\n"
   ],
   "outputs": [
    {
     "name": "stderr",
     "output_type": "stream",
     "text": [
      "2025-02-24 16:13:29.190 Python[13178:515037] +[IMKClient subclass]: chose IMKClient_Modern\n",
      "2025-02-24 16:13:29.190 Python[13178:515037] +[IMKInputSession subclass]: chose IMKInputSession_Modern\n"
     ]
    },
    {
     "ename": "KeyboardInterrupt",
     "evalue": "",
     "output_type": "error",
     "traceback": [
      "\u001B[0;31m---------------------------------------------------------------------------\u001B[0m",
      "\u001B[0;31mKeyboardInterrupt\u001B[0m                         Traceback (most recent call last)",
      "Cell \u001B[0;32mIn[2], line 39\u001B[0m\n\u001B[1;32m     36\u001B[0m     \u001B[38;5;28;01mbreak\u001B[39;00m\n\u001B[1;32m     38\u001B[0m gray \u001B[38;5;241m=\u001B[39m cv2\u001B[38;5;241m.\u001B[39mcvtColor(frame, cv2\u001B[38;5;241m.\u001B[39mCOLOR_BGR2GRAY)\n\u001B[0;32m---> 39\u001B[0m ret, corners \u001B[38;5;241m=\u001B[39m \u001B[43mcv2\u001B[49m\u001B[38;5;241;43m.\u001B[39;49m\u001B[43mfindChessboardCorners\u001B[49m\u001B[43m(\u001B[49m\u001B[43mgray\u001B[49m\u001B[43m,\u001B[49m\u001B[43m \u001B[49m\u001B[43mcheckerboard_size\u001B[49m\u001B[43m,\u001B[49m\u001B[43m \u001B[49m\u001B[38;5;28;43;01mNone\u001B[39;49;00m\u001B[43m)\u001B[49m\n\u001B[1;32m     41\u001B[0m \u001B[38;5;28;01mif\u001B[39;00m ret:\n\u001B[1;32m     42\u001B[0m     \u001B[38;5;66;03m# Refine detected corners\u001B[39;00m\n\u001B[1;32m     43\u001B[0m     corners \u001B[38;5;241m=\u001B[39m cv2\u001B[38;5;241m.\u001B[39mcornerSubPix(gray, corners, (\u001B[38;5;241m11\u001B[39m, \u001B[38;5;241m11\u001B[39m), (\u001B[38;5;241m-\u001B[39m\u001B[38;5;241m1\u001B[39m, \u001B[38;5;241m-\u001B[39m\u001B[38;5;241m1\u001B[39m), \n\u001B[1;32m     44\u001B[0m                                (cv2\u001B[38;5;241m.\u001B[39mTermCriteria_EPS \u001B[38;5;241m+\u001B[39m cv2\u001B[38;5;241m.\u001B[39mTermCriteria_MAX_ITER, \u001B[38;5;241m30\u001B[39m, \u001B[38;5;241m0.001\u001B[39m))\n",
      "\u001B[0;31mKeyboardInterrupt\u001B[0m: "
     ]
    }
   ],
   "execution_count": 2
  },
  {
   "metadata": {},
   "cell_type": "code",
   "outputs": [],
   "execution_count": null,
   "source": ""
  }
 ],
 "metadata": {
  "kernelspec": {
   "display_name": "Python 3",
   "language": "python",
   "name": "python3"
  },
  "language_info": {
   "codemirror_mode": {
    "name": "ipython",
    "version": 3
   },
   "file_extension": ".py",
   "mimetype": "text/x-python",
   "name": "python",
   "nbconvert_exporter": "python",
   "pygments_lexer": "ipython3",
   "version": "3.11.9"
  }
 },
 "nbformat": 4,
 "nbformat_minor": 2
}
