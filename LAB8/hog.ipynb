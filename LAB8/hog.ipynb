{
 "cells": [
  {
   "cell_type": "code",
   "execution_count": 6,
   "metadata": {},
   "outputs": [],
   "source": [
    "import cv2\n",
    "import numpy as np\n",
    "\n",
    "# Load an image in grayscale\n",
    "gray = cv2.imread(r'C:\\Users\\m.nasif\\Desktop\\OneDrive - University of Prince Mugrin\\CV\\Lab 78\\chess.jpg', cv2.IMREAD_GRAYSCALE)\n",
    "\n",
    "# Apply Canny Edge Detection\n",
    "edges = cv2.Canny(gray, 50, 150)\n",
    "\n",
    "# Apply Standard Hough Line Transform\n",
    "lines = cv2.HoughLines(edges, rho=1, theta=np.pi/180, threshold=100)\n",
    "\n",
    "# Convert edges to color image to draw lines\n",
    "output = cv2.cvtColor(edges, cv2.COLOR_GRAY2BGR)\n",
    "\n",
    "# Draw detected lines\n",
    "if lines is not None:\n",
    "    for line in lines:\n",
    "        rho, theta = line[0]\n",
    "        a = np.cos(theta)\n",
    "        b = np.sin(theta)\n",
    "        x0 = a * rho  # x-coordinate of the line's intersection with the normal\n",
    "        y0 = b * rho  # y-coordinate of the line's intersection with the normal\n",
    "        x1 = int(x0 + 1000 * (-b))  # Compute x-coordinates for line extension\n",
    "        y1 = int(y0 + 1000 * (a))   # Compute y-coordinates for line extension\n",
    "        x2 = int(x0 - 1000 * (-b))\n",
    "        y2 = int(y0 - 1000 * (a))\n",
    "        cv2.line(output, (x1, y1), (x2, y2), (0, 0, 255), 2)  # Draw line in red\n",
    "\n",
    "# Display results\n",
    "cv2.imshow('Edges', edges)\n",
    "cv2.imshow('HoughLines - Standard', output)\n",
    "cv2.waitKey(0)\n",
    "cv2.destroyAllWindows()\n"
   ]
  },
  {
   "cell_type": "code",
   "execution_count": 7,
   "metadata": {},
   "outputs": [],
   "source": [
    "import cv2\n",
    "import numpy as np\n",
    "\n",
    "# Load an image in grayscale\n",
    "gray = cv2.imread(r'C:\\Users\\m.nasif\\Desktop\\OneDrive - University of Prince Mugrin\\CV\\Lab 78\\temp1.png', cv2.IMREAD_GRAYSCALE)\n",
    "\n",
    "# Apply Gaussian Blur to reduce noise\n",
    "blurred = cv2.GaussianBlur(gray, (9, 9), 2)\n",
    "\n",
    "# Apply Hough Circle Transform\n",
    "circles = cv2.HoughCircles(blurred, \n",
    "                           method=cv2.HOUGH_GRADIENT, \n",
    "                           dp=1.2, \n",
    "                           minDist=30,\n",
    "                           param1=50, \n",
    "                           param2=30, \n",
    "                           minRadius=10, \n",
    "                           maxRadius=100)\n",
    "\n",
    "# Convert to color image for drawing\n",
    "output = cv2.cvtColor(gray, cv2.COLOR_GRAY2BGR)\n",
    "\n",
    "# Draw detected circles\n",
    "if circles is not None:\n",
    "    circles = np.uint16(np.around(circles))\n",
    "    for i in circles[0, :]:\n",
    "        cv2.circle(output, (i[0], i[1]), i[2], (0, 255, 0), 2)  # Draw circle in green\n",
    "        cv2.circle(output, (i[0], i[1]), 2, (0, 0, 255), 3)  # Draw center in red\n",
    "\n",
    "# Display results\n",
    "cv2.imshow('Blurred', blurred)\n",
    "cv2.imshow('HoughCircles - Detected Circles', output)\n",
    "cv2.waitKey(0)\n",
    "cv2.destroyAllWindows()\n"
   ]
  },
  {
   "cell_type": "markdown",
   "metadata": {},
   "source": [
    "### EX 1 A"
   ]
  },
  {
   "cell_type": "code",
   "execution_count": null,
   "metadata": {},
   "outputs": [],
   "source": [
    "#Solve here"
   ]
  },
  {
   "cell_type": "markdown",
   "metadata": {},
   "source": [
    "### EX 1 B"
   ]
  },
  {
   "cell_type": "code",
   "execution_count": null,
   "metadata": {},
   "outputs": [],
   "source": [
    "#Solve here"
   ]
  },
  {
   "cell_type": "code",
   "execution_count": null,
   "metadata": {},
   "outputs": [],
   "source": []
  },
  {
   "cell_type": "markdown",
   "metadata": {},
   "source": [
    "### EX 2"
   ]
  },
  {
   "cell_type": "code",
   "execution_count": null,
   "metadata": {},
   "outputs": [],
   "source": [
    "#Solve here"
   ]
  }
 ],
 "metadata": {
  "kernelspec": {
   "display_name": "Python 3",
   "language": "python",
   "name": "python3"
  },
  "language_info": {
   "codemirror_mode": {
    "name": "ipython",
    "version": 3
   },
   "file_extension": ".py",
   "mimetype": "text/x-python",
   "name": "python",
   "nbconvert_exporter": "python",
   "pygments_lexer": "ipython3",
   "version": "3.11.9"
  }
 },
 "nbformat": 4,
 "nbformat_minor": 2
}
